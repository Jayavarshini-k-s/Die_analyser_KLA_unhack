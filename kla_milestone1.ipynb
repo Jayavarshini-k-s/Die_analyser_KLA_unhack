{
 "cells": [
  {
   "cell_type": "code",
   "execution_count": 12,
   "id": "20e286dc",
   "metadata": {},
   "outputs": [],
   "source": [
    "import csv, re"
   ]
  },
  {
   "cell_type": "code",
   "execution_count": 13,
   "id": "39c187d2",
   "metadata": {},
   "outputs": [],
   "source": [
    "def read_matrix_csv(file_path):\n",
    "    with open(file_path, 'r') as f:\n",
    "        reader = csv.reader(f)\n",
    "        matrix = [list(map(int,row)) for row in reader]\n",
    "    return matrix\n",
    "\n"
   ]
  },
  {
   "cell_type": "code",
   "execution_count": 18,
   "id": "6d54a146",
   "metadata": {},
   "outputs": [],
   "source": [
    "def read_ink_file(file_path):\n",
    "    orientation = 0\n",
    "    ink_matrix = []\n",
    "    with open(file_path,'r') as f:\n",
    "        for line in f:\n",
    "            if line.startswith(\"ORIENTATION:\"):\n",
    "                orientation = int(line.split(\":\")[1])\n",
    "            if line.startswith(\"ROWDATA:\"):\n",
    "                row = list(map(int,line.strip().split(\":\")[1].split()))\n",
    "                ink_matrix.append(row)\n",
    "            if line.startswith(\"GOOD_DIE:\"):\n",
    "                good_die = int(line.split(\":\")[1])\n",
    "            if line.startswith(\"ACTIVE_BAD_DIE:\"):\n",
    "                bad_die = int(line.split(\":\")[1])\n",
    "            # if line.startswith(\"INVALID_DIE:\"):\n",
    "            #     invalid_die = int(line.split(\":\")[1])\n",
    "            if line.startswith(\"NAME:\"):\n",
    "                s = line.split(\":\")[1]\n",
    "                testcase = re.search(r'\\d+',s).group()\n",
    "                \n",
    "    return ink_matrix,orientation,good_die,bad_die,testcase\n"
   ]
  },
  {
   "cell_type": "code",
   "execution_count": 19,
   "id": "1efe9de1",
   "metadata": {},
   "outputs": [],
   "source": [
    "def rotate_matrix_90_counterclockwise(mat):\n",
    "\n",
    "    transposed = list(zip(*mat))\n",
    "    rotated = [list(row) for row in transposed[::-1]]\n",
    "\n",
    "    return rotated"
   ]
  },
  {
   "cell_type": "code",
   "execution_count": 20,
   "id": "dc7f8386",
   "metadata": {},
   "outputs": [],
   "source": [
    "def align_orientation(ink_matrix, orientation):\n",
    "    if orientation >= 90:\n",
    "        mat =  rotate_matrix_90_counterclockwise(ink_matrix)\n",
    "        if orientation >= 180:\n",
    "            mat = rotate_matrix_90_counterclockwise(mat[:])\n",
    "            if orientation >= 270:\n",
    "                mat = rotate_matrix_90_counterclockwise(mat[:])\n",
    "                if orientation >= 360:\n",
    "                    mat = rotate_matrix_90_counterclockwise(mat[:])\n",
    "        return mat\n",
    "    return ink_matrix"
   ]
  },
  {
   "cell_type": "code",
   "execution_count": 21,
   "id": "4d14960c",
   "metadata": {},
   "outputs": [],
   "source": [
    "def apply_ink_to_matrix(matrix, ink_matrix, good_die, bad_die):\n",
    "    output = []\n",
    "    good_die_num, bad_die_num = 0, 0\n",
    "    for i in range(len(matrix)):\n",
    "        row = []\n",
    "        for j in range(len(matrix[0])):\n",
    "            print(i,j)\n",
    "            if matrix[i][j] == 0:\n",
    "                row.append(\"000\")\n",
    "            else:\n",
    "                \n",
    "                if ink_matrix[i][j] == good_die:\n",
    "                    good_die_num+=1\n",
    "                if ink_matrix[i][j] == bad_die:\n",
    "                    bad_die_num+=1\n",
    "                row.append(str(ink_matrix[i][j]).zfill(3))\n",
    "        output.append(row)\n",
    "    return output, good_die_num, bad_die_num\n"
   ]
  },
  {
   "cell_type": "code",
   "execution_count": 22,
   "id": "14fb457a",
   "metadata": {},
   "outputs": [],
   "source": [
    "def write_output(output_matrix, testcase, good_die_num,bad_die_num):\n",
    "    output_file = \"M1T\"+str(testcase)+'.txt'\n",
    "    \n",
    "    with open(output_file, 'w') as f:\n",
    "        f.write(\"NO OF GOOD DIES: \"+str(good_die_num)+'\\n')\n",
    "        f.write(\"NO OF BAD DIES: \"+ str(bad_die_num)+'\\n')\n",
    "        for row in output_matrix:\n",
    "            f.write(\"ROWDATA:\"+\" \".join(row)+\"\\n\")"
   ]
  },
  {
   "cell_type": "code",
   "execution_count": null,
   "id": "014b3b05",
   "metadata": {},
   "outputs": [
    {
     "name": "stdout",
     "output_type": "stream",
     "text": [
      "[[100, 100, 100, 100, 100, 100, 100, 100, 100, 100, 100, 100, 100], [100, 100, 100, 100, 100, 100, 100, 100, 100, 100, 100, 100, 100], [100, 100, 100, 100, 100, 100, 100, 100, 100, 100, 100, 100, 100], [100, 100, 100, 100, 100, 60, 100, 100, 100, 30, 100, 100, 100], [100, 100, 100, 100, 100, 100, 100, 100, 100, 100, 100, 100, 100], [100, 100, 100, 100, 100, 100, 100, 100, 100, 100, 100, 100, 100], [100, 100, 100, 100, 100, 100, 100, 100, 100, 100, 100, 100, 100]]\n"
     ]
    }
   ],
   "source": [
    "matrix = read_matrix_csv('Students\\Dataset\\M1\\T9\\MATRIX.csv')\n",
    "ink_matrix, orientation, good_die, bad_die, testcase = read_ink_file('Students\\Dataset\\M1\\T9\\INPUT.txt')\n",
    "\n",
    "ink_matrix = align_orientation(ink_matrix, orientation)\n",
    "print(ink_matrix)\n",
    "output, good_die_num, bad_die_num = apply_ink_to_matrix(matrix, ink_matrix,good_die,bad_die)\n",
    "print(output)\n",
    "write_output(output,testcase, good_die_num, bad_die_num )"
   ]
  },
  {
   "cell_type": "code",
   "execution_count": null,
   "id": "3e2b92c9",
   "metadata": {},
   "outputs": [],
   "source": []
  }
 ],
 "metadata": {
  "kernelspec": {
   "display_name": "Python 3",
   "language": "python",
   "name": "python3"
  },
  "language_info": {
   "codemirror_mode": {
    "name": "ipython",
    "version": 3
   },
   "file_extension": ".py",
   "mimetype": "text/x-python",
   "name": "python",
   "nbconvert_exporter": "python",
   "pygments_lexer": "ipython3",
   "version": "3.11.9"
  }
 },
 "nbformat": 4,
 "nbformat_minor": 5
}
